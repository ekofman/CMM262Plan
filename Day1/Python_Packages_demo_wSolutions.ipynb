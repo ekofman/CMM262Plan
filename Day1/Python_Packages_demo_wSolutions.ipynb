{
 "cells": [
  {
   "cell_type": "markdown",
   "metadata": {},
   "source": [
    "# Introduction to Python Packages"
   ]
  },
  {
   "cell_type": "markdown",
   "metadata": {},
   "source": [
    "### Why are packages useful? We can write less code and we don't need to reinvent the wheel!\n"
   ]
  },
  {
   "cell_type": "code",
   "execution_count": 1,
   "metadata": {},
   "outputs": [
    {
     "data": {
      "text/html": [
       "<img src=\"https://i.imgflip.com/42bnn2.jpg\" width=\"300\"/>"
      ],
      "text/plain": [
       "<IPython.core.display.Image object>"
      ]
     },
     "execution_count": 1,
     "metadata": {},
     "output_type": "execute_result"
    }
   ],
   "source": [
    "from IPython.display import Image\n",
    "from IPython.core.display import HTML \n",
    "Image(url= \"https://i.imgflip.com/42bnn2.jpg\",width=300)"
   ]
  },
  {
   "cell_type": "markdown",
   "metadata": {},
   "source": [
    "Let's look at this example for calculating the mean of a list of numbers. "
   ]
  },
  {
   "cell_type": "code",
   "execution_count": 2,
   "metadata": {},
   "outputs": [
    {
     "name": "stdout",
     "output_type": "stream",
     "text": [
      "3.3333333333333335\n"
     ]
    }
   ],
   "source": [
    "nums = [5,3,2] \n",
    "calc_mean = sum(nums)/len(nums)\n",
    "print(calc_mean)"
   ]
  },
  {
   "cell_type": "markdown",
   "metadata": {},
   "source": [
    "The ```statistics``` package has a function called ```mean```. Let's import it and use the ```mean``` function to calculate the mean of the numbers in the list"
   ]
  },
  {
   "cell_type": "code",
   "execution_count": 3,
   "metadata": {},
   "outputs": [
    {
     "name": "stdout",
     "output_type": "stream",
     "text": [
      "3.3333333333333335\n"
     ]
    }
   ],
   "source": [
    "from statistics import mean\n",
    "\n",
    "nums =[5,3,2] \n",
    "print(mean(nums))"
   ]
  },
  {
   "cell_type": "markdown",
   "metadata": {},
   "source": [
    "### Math-based packages: Numpy and random"
   ]
  },
  {
   "cell_type": "markdown",
   "metadata": {},
   "source": [
    "### Random: Functions"
   ]
  },
  {
   "cell_type": "markdown",
   "metadata": {},
   "source": [
    "Now let's start by exploring the ```random``` package. The ```random```package is good for generating pseudo random float or int values and has many useful functions and applications. Let's start by importing the package:"
   ]
  },
  {
   "cell_type": "code",
   "execution_count": 4,
   "metadata": {},
   "outputs": [],
   "source": [
    "import random"
   ]
  },
  {
   "cell_type": "markdown",
   "metadata": {},
   "source": [
    "Now that we have imported the package, let's explore some functions, starting with randint, which will return a random integer between two specified values. "
   ]
  },
  {
   "cell_type": "code",
   "execution_count": 5,
   "metadata": {},
   "outputs": [
    {
     "name": "stdout",
     "output_type": "stream",
     "text": [
      "457\n"
     ]
    }
   ],
   "source": [
    "print(random.randint(0,500))"
   ]
  },
  {
   "cell_type": "markdown",
   "metadata": {},
   "source": [
    "try running it again and see if it outputs a different integer..."
   ]
  },
  {
   "cell_type": "code",
   "execution_count": 6,
   "metadata": {},
   "outputs": [
    {
     "name": "stdout",
     "output_type": "stream",
     "text": [
      "177\n"
     ]
    }
   ],
   "source": [
    "print(random.randint(0,500))"
   ]
  },
  {
   "cell_type": "markdown",
   "metadata": {},
   "source": [
    "Be aware that it's not truly random. Setting a seed will return the same value each time. Try running the next cell a few times to observe the difference between using and not using seed."
   ]
  },
  {
   "cell_type": "code",
   "execution_count": 7,
   "metadata": {},
   "outputs": [
    {
     "name": "stdout",
     "output_type": "stream",
     "text": [
      "random number using seed: 24\n"
     ]
    }
   ],
   "source": [
    "random.seed(78)\n",
    "x = random.randint(0,100)\n",
    "print('random number using seed:', x)"
   ]
  },
  {
   "cell_type": "code",
   "execution_count": 8,
   "metadata": {},
   "outputs": [
    {
     "name": "stdout",
     "output_type": "stream",
     "text": [
      "random number using seed: 24\n"
     ]
    }
   ],
   "source": [
    "random.seed(78)\n",
    "x = random.randint(0,100)\n",
    "print('random number using seed:', x)"
   ]
  },
  {
   "cell_type": "markdown",
   "metadata": {},
   "source": [
    "Let's try changing the seed before assigning x and y to see what happens"
   ]
  },
  {
   "cell_type": "code",
   "execution_count": 9,
   "metadata": {},
   "outputs": [
    {
     "name": "stdout",
     "output_type": "stream",
     "text": [
      "random number using seed: 30\n"
     ]
    }
   ],
   "source": [
    "random.seed(4)\n",
    "x = random.randint(0,100)\n",
    "print('random number using seed:', x)"
   ]
  },
  {
   "cell_type": "code",
   "execution_count": 10,
   "metadata": {},
   "outputs": [
    {
     "name": "stdout",
     "output_type": "stream",
     "text": [
      "random number using seed: 30\n"
     ]
    }
   ],
   "source": [
    "random.seed(4)\n",
    "x = random.randint(0,100)\n",
    "print('random number using seed:', x)"
   ]
  },
  {
   "cell_type": "markdown",
   "metadata": {},
   "source": [
    "We can also get a random number using the ```random()``` function. However, this will only return a float between 0.0 and 1.0."
   ]
  },
  {
   "cell_type": "code",
   "execution_count": 11,
   "metadata": {},
   "outputs": [
    {
     "name": "stdout",
     "output_type": "stream",
     "text": [
      "0.30329858588551006\n"
     ]
    }
   ],
   "source": [
    "print(random.random())"
   ]
  },
  {
   "cell_type": "markdown",
   "metadata": {},
   "source": [
    "Like regular floats, we can perform mathematical operations on the value returned by ```random()``` or ```randint()```. For example:"
   ]
  },
  {
   "cell_type": "code",
   "execution_count": 12,
   "metadata": {},
   "outputs": [
    {
     "name": "stdout",
     "output_type": "stream",
     "text": [
      "72.12169050876665\n"
     ]
    }
   ],
   "source": [
    "print(random.random() * 100)"
   ]
  },
  {
   "cell_type": "markdown",
   "metadata": {},
   "source": [
    "If we want to randomly select an item from a list, we can use the ```choice()``` function. "
   ]
  },
  {
   "cell_type": "code",
   "execution_count": 13,
   "metadata": {},
   "outputs": [],
   "source": [
    "beatles = ['George', 'Paul', 'Ringo', 'John']"
   ]
  },
  {
   "cell_type": "code",
   "execution_count": 14,
   "metadata": {},
   "outputs": [
    {
     "name": "stdout",
     "output_type": "stream",
     "text": [
      "John\n"
     ]
    }
   ],
   "source": [
    "print(random.choice(beatles))"
   ]
  },
  {
   "cell_type": "markdown",
   "metadata": {},
   "source": [
    "If we'd like to get the same item each time, we can set a seed"
   ]
  },
  {
   "cell_type": "code",
   "execution_count": 15,
   "metadata": {},
   "outputs": [
    {
     "name": "stdout",
     "output_type": "stream",
     "text": [
      "Paul\n"
     ]
    }
   ],
   "source": [
    "random.seed(22)\n",
    "print(random.choice(beatles))"
   ]
  },
  {
   "cell_type": "markdown",
   "metadata": {},
   "source": [
    "and if we run it again...we should get the same value returned"
   ]
  },
  {
   "cell_type": "code",
   "execution_count": 16,
   "metadata": {},
   "outputs": [
    {
     "name": "stdout",
     "output_type": "stream",
     "text": [
      "Paul\n"
     ]
    }
   ],
   "source": [
    "random.seed(22)\n",
    "print(random.choice(beatles))"
   ]
  },
  {
   "cell_type": "markdown",
   "metadata": {},
   "source": [
    "Now, say we want to shuffle around the items in our list named beatles, we can use the ```shuffle()``` function. Let's start by printing the list with the original order..."
   ]
  },
  {
   "cell_type": "code",
   "execution_count": 17,
   "metadata": {},
   "outputs": [
    {
     "name": "stdout",
     "output_type": "stream",
     "text": [
      "['George', 'Paul', 'Ringo', 'John']\n"
     ]
    }
   ],
   "source": [
    "print(beatles)"
   ]
  },
  {
   "cell_type": "code",
   "execution_count": 18,
   "metadata": {},
   "outputs": [],
   "source": [
    "#shuffle items in the list\n",
    "random.shuffle(beatles)"
   ]
  },
  {
   "cell_type": "code",
   "execution_count": 19,
   "metadata": {},
   "outputs": [
    {
     "name": "stdout",
     "output_type": "stream",
     "text": [
      "['Ringo', 'John', 'George', 'Paul']\n"
     ]
    }
   ],
   "source": [
    "print(beatles)"
   ]
  },
  {
   "cell_type": "markdown",
   "metadata": {},
   "source": [
    "### Using Random to create pseudodata"
   ]
  },
  {
   "cell_type": "markdown",
   "metadata": {},
   "source": [
    "The ```random``` function is very useful for generating pseudodata. Here we are generating a dataset of 100 float values randomly selelcted using the ```random``` function. "
   ]
  },
  {
   "cell_type": "code",
   "execution_count": 20,
   "metadata": {},
   "outputs": [],
   "source": [
    "#initialize a list which we will add random values to\n",
    "pseudodata = []\n",
    "\n",
    "#populating the pseudodata list with 100 float values\n",
    "for i in range(100):\n",
    "    pseudodata.append(random.random())"
   ]
  },
  {
   "cell_type": "markdown",
   "metadata": {},
   "source": [
    "Let's print out the first 10 floats in the psuedodata list."
   ]
  },
  {
   "cell_type": "code",
   "execution_count": 21,
   "metadata": {},
   "outputs": [
    {
     "name": "stdout",
     "output_type": "stream",
     "text": [
      "[0.18425364570285307, 0.12059206321532501, 0.6514212405579194, 0.3456448375625667, 0.8895509397958029, 0.23174148998607602, 0.9594850618366995, 0.3194518385537368, 0.6011422885889965, 0.9320876043438782]\n"
     ]
    }
   ],
   "source": [
    "print(pseudodata[:10])"
   ]
  },
  {
   "cell_type": "markdown",
   "metadata": {},
   "source": [
    "### Numpy"
   ]
  },
  {
   "cell_type": "markdown",
   "metadata": {},
   "source": [
    "```Numpy``` is a python package meant to support large arrays and matrices and allows for mathematical functions to be used with them. Let's start by importing the package. "
   ]
  },
  {
   "cell_type": "code",
   "execution_count": 22,
   "metadata": {},
   "outputs": [],
   "source": [
    "import numpy as np"
   ]
  },
  {
   "cell_type": "markdown",
   "metadata": {},
   "source": [
    "Let's take a simple example of using the function ```sum()``` to find the sum of all data points within pseudodata"
   ]
  },
  {
   "cell_type": "code",
   "execution_count": 23,
   "metadata": {},
   "outputs": [
    {
     "name": "stdout",
     "output_type": "stream",
     "text": [
      "54.79581621372364\n"
     ]
    }
   ],
   "source": [
    "print(np.sum(pseudodata))"
   ]
  },
  {
   "cell_type": "markdown",
   "metadata": {},
   "source": [
    "How about the ```mean()```?"
   ]
  },
  {
   "cell_type": "code",
   "execution_count": 24,
   "metadata": {},
   "outputs": [
    {
     "name": "stdout",
     "output_type": "stream",
     "text": [
      "0.5479581621372364\n"
     ]
    }
   ],
   "source": [
    "print(np.mean(pseudodata))"
   ]
  },
  {
   "cell_type": "markdown",
   "metadata": {},
   "source": [
    "And the variance, or ```var()```?"
   ]
  },
  {
   "cell_type": "code",
   "execution_count": 25,
   "metadata": {},
   "outputs": [
    {
     "name": "stdout",
     "output_type": "stream",
     "text": [
      "0.0765003823706206\n"
     ]
    }
   ],
   "source": [
    "print(np.var(pseudodata))"
   ]
  },
  {
   "cell_type": "markdown",
   "metadata": {},
   "source": [
    "If we come accross a function and we're not sure what it does or how it works, we can use ```help()```"
   ]
  },
  {
   "cell_type": "code",
   "execution_count": 26,
   "metadata": {},
   "outputs": [
    {
     "name": "stdout",
     "output_type": "stream",
     "text": [
      "Help on function sum in module numpy:\n",
      "\n",
      "sum(a, axis=None, dtype=None, out=None, keepdims=<no value>, initial=<no value>)\n",
      "    Sum of array elements over a given axis.\n",
      "    \n",
      "    Parameters\n",
      "    ----------\n",
      "    a : array_like\n",
      "        Elements to sum.\n",
      "    axis : None or int or tuple of ints, optional\n",
      "        Axis or axes along which a sum is performed.  The default,\n",
      "        axis=None, will sum all of the elements of the input array.  If\n",
      "        axis is negative it counts from the last to the first axis.\n",
      "    \n",
      "        .. versionadded:: 1.7.0\n",
      "    \n",
      "        If axis is a tuple of ints, a sum is performed on all of the axes\n",
      "        specified in the tuple instead of a single axis or all the axes as\n",
      "        before.\n",
      "    dtype : dtype, optional\n",
      "        The type of the returned array and of the accumulator in which the\n",
      "        elements are summed.  The dtype of `a` is used by default unless `a`\n",
      "        has an integer dtype of less precision than the default platform\n",
      "        integer.  In that case, if `a` is signed then the platform integer\n",
      "        is used while if `a` is unsigned then an unsigned integer of the\n",
      "        same precision as the platform integer is used.\n",
      "    out : ndarray, optional\n",
      "        Alternative output array in which to place the result. It must have\n",
      "        the same shape as the expected output, but the type of the output\n",
      "        values will be cast if necessary.\n",
      "    keepdims : bool, optional\n",
      "        If this is set to True, the axes which are reduced are left\n",
      "        in the result as dimensions with size one. With this option,\n",
      "        the result will broadcast correctly against the input array.\n",
      "    \n",
      "        If the default value is passed, then `keepdims` will not be\n",
      "        passed through to the `sum` method of sub-classes of\n",
      "        `ndarray`, however any non-default value will be.  If the\n",
      "        sub-class' method does not implement `keepdims` any\n",
      "        exceptions will be raised.\n",
      "    initial : scalar, optional\n",
      "        Starting value for the sum. See `~numpy.ufunc.reduce` for details.\n",
      "    \n",
      "        .. versionadded:: 1.15.0\n",
      "    \n",
      "    Returns\n",
      "    -------\n",
      "    sum_along_axis : ndarray\n",
      "        An array with the same shape as `a`, with the specified\n",
      "        axis removed.   If `a` is a 0-d array, or if `axis` is None, a scalar\n",
      "        is returned.  If an output array is specified, a reference to\n",
      "        `out` is returned.\n",
      "    \n",
      "    See Also\n",
      "    --------\n",
      "    ndarray.sum : Equivalent method.\n",
      "    \n",
      "    cumsum : Cumulative sum of array elements.\n",
      "    \n",
      "    trapz : Integration of array values using the composite trapezoidal rule.\n",
      "    \n",
      "    mean, average\n",
      "    \n",
      "    Notes\n",
      "    -----\n",
      "    Arithmetic is modular when using integer types, and no error is\n",
      "    raised on overflow.\n",
      "    \n",
      "    The sum of an empty array is the neutral element 0:\n",
      "    \n",
      "    >>> np.sum([])\n",
      "    0.0\n",
      "    \n",
      "    Examples\n",
      "    --------\n",
      "    >>> np.sum([0.5, 1.5])\n",
      "    2.0\n",
      "    >>> np.sum([0.5, 0.7, 0.2, 1.5], dtype=np.int32)\n",
      "    1\n",
      "    >>> np.sum([[0, 1], [0, 5]])\n",
      "    6\n",
      "    >>> np.sum([[0, 1], [0, 5]], axis=0)\n",
      "    array([0, 6])\n",
      "    >>> np.sum([[0, 1], [0, 5]], axis=1)\n",
      "    array([1, 5])\n",
      "    \n",
      "    If the accumulator is too small, overflow occurs:\n",
      "    \n",
      "    >>> np.ones(128, dtype=np.int8).sum(dtype=np.int8)\n",
      "    -128\n",
      "    \n",
      "    You can also start the sum with a value other than zero:\n",
      "    \n",
      "    >>> np.sum([10], initial=5)\n",
      "    15\n",
      "\n"
     ]
    }
   ],
   "source": [
    "help(np.sum)"
   ]
  },
  {
   "cell_type": "markdown",
   "metadata": {},
   "source": [
    "There are times when we will want to transform our data. Some reasons may be that we want to improve the interpretability of the data or gain insight into the relationship between variables. Log10 transformation is a common tranformation method used. \n",
    "\n",
    "Let's use ```numpy```'s ```log10()``` function in order to complete a log10 transformation of the data and see the first 10 items that have been log10 transformed."
   ]
  },
  {
   "cell_type": "code",
   "execution_count": 27,
   "metadata": {},
   "outputs": [
    {
     "name": "stdout",
     "output_type": "stream",
     "text": [
      "[-0.73458391 -0.91868127 -0.18613808 -0.46136993 -0.05082918 -0.63499621\n",
      " -0.01796178 -0.49559461 -0.22102272 -0.03054327]\n"
     ]
    }
   ],
   "source": [
    "print(np.log10(pseudodata)[:10])"
   ]
  },
  {
   "cell_type": "markdown",
   "metadata": {},
   "source": [
    "### Graphing packages: Seaborn and Matplotlib"
   ]
  },
  {
   "cell_type": "markdown",
   "metadata": {},
   "source": [
    "Seaborn and Matplotlib are commonly used python packages for plotting graphs in python. Why do we need two packages for plotting? Matplotlib is generally used for more basic plotting such as plotting barplots, scatterplots, pie charts, etc. While both Matplotlib and Seaborn can work with lists and dataframes, Seaborn is better integrated for use with dataframes, provides a wider range of visualization patterns, and specializes in statistics visualizations, such as distribution plots.\n",
    "\n",
    "Let's start by importing seaborn as sns."
   ]
  },
  {
   "cell_type": "code",
   "execution_count": 28,
   "metadata": {},
   "outputs": [],
   "source": [
    "import seaborn as sns"
   ]
  },
  {
   "cell_type": "markdown",
   "metadata": {},
   "source": [
    "Let's start by using seaborn's ```distplot()``` function to plot the distribution of our non-transformed pseudodata."
   ]
  },
  {
   "cell_type": "code",
   "execution_count": 29,
   "metadata": {},
   "outputs": [
    {
     "data": {
      "text/plain": [
       "<matplotlib.axes._subplots.AxesSubplot at 0x1a1dc0f860>"
      ]
     },
     "execution_count": 29,
     "metadata": {},
     "output_type": "execute_result"
    },
    {
     "data": {
      "image/png": "[encoded data removed]",
      "text/plain": [
       "<Figure size 432x288 with 1 Axes>"
      ]
     },
     "metadata": {
      "needs_background": "light"
     },
     "output_type": "display_data"
    }
   ],
   "source": [
    "sns.distplot(pseudodata)"
   ]
  },
  {
   "cell_type": "markdown",
   "metadata": {},
   "source": [
    "At the moment, the plot does not have any x or y axis labels, so let's add some labels and a title using the ```set()``` function. "
   ]
  },
  {
   "cell_type": "code",
   "execution_count": 30,
   "metadata": {},
   "outputs": [
    {
     "data": {
      "text/plain": [
       "[Text(0, 0.5, 'density'),\n",
       " Text(0.5, 0, 'pseudodata'),\n",
       " Text(0.5, 1.0, 'Distribution of Pseudodata')]"
      ]
     },
     "execution_count": 30,
     "metadata": {},
     "output_type": "execute_result"
    },
    {
     "data": {
      "image/png": "[encoded data removed]",
      "text/plain": [
       "<Figure size 432x288 with 1 Axes>"
      ]
     },
     "metadata": {
      "needs_background": "light"
     },
     "output_type": "display_data"
    }
   ],
   "source": [
    "a = sns.distplot(pseudodata)\n",
    "a.set(xlabel='pseudodata', ylabel='density', title='Distribution of Pseudodata')"
   ]
  },
  {
   "cell_type": "markdown",
   "metadata": {},
   "source": [
    "Now let's start using are new superpowers of python and plotting to start doing some data visualization. Let's start by seeing what happens to the distribution if our pseudodata consists of very larger numbers (remember, right now they are all floats between 0.0 and 1.0). To do this, we will start by multiplying all of our floats in *pseudodata* by 1000000 to create a new dataset we will call *pseudodata_large*."
   ]
  },
  {
   "cell_type": "code",
   "execution_count": 31,
   "metadata": {},
   "outputs": [],
   "source": [
    "#initialize your new list\n",
    "pseudodata_large = []\n",
    "\n",
    "#iterate through all values in pseudodata, multiplying each one by 1000000 before appending it to your new list\n",
    "for i in pseudodata:\n",
    "    pseudodata_large.append(i*1000000)    "
   ]
  },
  {
   "cell_type": "markdown",
   "metadata": {},
   "source": [
    "Let's see what the first 10 values of our new dataset are"
   ]
  },
  {
   "cell_type": "code",
   "execution_count": 32,
   "metadata": {},
   "outputs": [
    {
     "data": {
      "text/plain": [
       "[184253.64570285307,\n",
       " 120592.063215325,\n",
       " 651421.2405579194,\n",
       " 345644.8375625667,\n",
       " 889550.9397958029,\n",
       " 231741.48998607602,\n",
       " 959485.0618366995,\n",
       " 319451.8385537368,\n",
       " 601142.2885889965,\n",
       " 932087.6043438781]"
      ]
     },
     "execution_count": 32,
     "metadata": {},
     "output_type": "execute_result"
    }
   ],
   "source": [
    "pseudodata_large[:10]"
   ]
  },
  {
   "cell_type": "markdown",
   "metadata": {},
   "source": [
    "***Exercise 1:*** Now try plotting the distribution of your data. Make sure to set axes labels and a title. Has the distribution shifted and if so, how?"
   ]
  },
  {
   "cell_type": "code",
   "execution_count": 33,
   "metadata": {},
   "outputs": [
    {
     "data": {
      "text/plain": [
       "[Text(0, 0.5, 'density'),\n",
       " Text(0.5, 0, 'pseudodata_large'),\n",
       " Text(0.5, 1.0, 'Distribution of Pseudodata_large Dataset')]"
      ]
     },
     "execution_count": 33,
     "metadata": {},
     "output_type": "execute_result"
    },
    {
     "data": {
      "image/png": "[encoded data removed]",
      "text/plain": [
       "<Figure size 432x288 with 1 Axes>"
      ]
     },
     "metadata": {
      "needs_background": "light"
     },
     "output_type": "display_data"
    }
   ],
   "source": [
    "b = sns.distplot(pseudodata_large)\n",
    "b.set(xlabel='pseudodata_large', ylabel='density', title='Distribution of Pseudodata_large Dataset')"
   ]
  },
  {
   "cell_type": "markdown",
   "metadata": {},
   "source": [
    "***Exercise 2:*** When we are dealing with data with very large values, sometimes we will want to transform the data. For this exercise, log transform the pseudodata_large dataset and plot the distribution of the transformed data. Make sure to add axes labels and a title. After transforming the data, has the distribution shifted? And if so, how?"
   ]
  },
  {
   "cell_type": "code",
   "execution_count": 34,
   "metadata": {},
   "outputs": [
    {
     "data": {
      "text/plain": [
       "[Text(0, 0.5, 'density'),\n",
       " Text(0.5, 0, 'log10(pseudodata_large)'),\n",
       " Text(0.5, 1.0, 'Distribution of Pseudodata Dataset')]"
      ]
     },
     "execution_count": 34,
     "metadata": {},
     "output_type": "execute_result"
    },
    {
     "data": {
      "image/png": "[encoded data removed]",
      "text/plain": [
       "<Figure size 432x288 with 1 Axes>"
      ]
     },
     "metadata": {
      "needs_background": "light"
     },
     "output_type": "display_data"
    }
   ],
   "source": [
    "c = sns.distplot(np.log10(pseudodata_large))\n",
    "c.set(xlabel='log10(pseudodata_large)', ylabel='density', title='Distribution of Pseudodata Dataset' )"
   ]
  },
  {
   "cell_type": "markdown",
   "metadata": {},
   "source": [
    "We can make many different types of plots using seaborn. For example, we can make a violin plot using the ```violinplot()``` function as shown below. To see what other plots can be made with seaborn, you can read the documentation at https://seaborn.pydata.org/"
   ]
  },
  {
   "cell_type": "code",
   "execution_count": 35,
   "metadata": {},
   "outputs": [
    {
     "data": {
      "text/plain": [
       "[Text(0, 0.5, 'pseudodata'), Text(0.5, 1.0, 'Sample Violin Plot')]"
      ]
     },
     "execution_count": 35,
     "metadata": {},
     "output_type": "execute_result"
    },
    {
     "data": {
      "image/png": "[encoded data removed]",
      "text/plain": [
       "<Figure size 432x288 with 1 Axes>"
      ]
     },
     "metadata": {
      "needs_background": "light"
     },
     "output_type": "display_data"
    }
   ],
   "source": [
    "d = sns.violinplot(pseudodata)\n",
    "d.set(ylabel='pseudodata', title='Sample Violin Plot')"
   ]
  },
  {
   "cell_type": "markdown",
   "metadata": {},
   "source": [
    "### Reading in our own data and plotting with Matplotlib"
   ]
  },
  {
   "cell_type": "markdown",
   "metadata": {},
   "source": [
    "Here, we will be reading in our dataset which contains all of the sizes of the different chromosomes that correspond to the hg19 reference. The data file should already be availalbe to you, but for your own reference, the table was taken from http://hgdownload.soe.ucsc.edu/goldenPath/hg19/bigZips/hg19.chrom.sizes."
   ]
  },
  {
   "cell_type": "markdown",
   "metadata": {},
   "source": [
    "Let's start by reading in all of the lines in a file using ```with open```. There are other methods you can use to open, read, and close a file in python. However, we encourage you to start with ```with open``` as it automatically takes care of closing the file when you are done. Other methods require you to specify when to close a file and sometimes...we can forget. "
   ]
  },
  {
   "cell_type": "code",
   "execution_count": 37,
   "metadata": {},
   "outputs": [],
   "source": [
    "with open ('./CMM262Plan/data/hg19.chrom.sizes.txt') as chromSize:\n",
    "    all_lines = chromSize.readlines()"
   ]
  },
  {
   "cell_type": "markdown",
   "metadata": {},
   "source": [
    "Now we have a list where each item is one line. "
   ]
  },
  {
   "cell_type": "code",
   "execution_count": 39,
   "metadata": {},
   "outputs": [
    {
     "name": "stdout",
     "output_type": "stream",
     "text": [
      "['chr1\\t249250621\\n', 'chr2\\t243199373\\n', 'chr3\\t198022430\\n', 'chr4\\t191154276\\n', 'chr5\\t180915260\\n', 'chr6\\t171115067\\n', 'chr7\\t159138663\\n', 'chrX\\t155270560\\n', 'chr8\\t146364022\\n', 'chr9\\t141213431\\n', 'chr10\\t135534747\\n', 'chr11\\t135006516\\n', 'chr12\\t133851895\\n', 'chr13\\t115169878\\n', 'chr14\\t107349540\\n', 'chr15\\t102531392\\n', 'chr16\\t90354753\\n', 'chr17\\t81195210\\n', 'chr18\\t78077248\\n', 'chr20\\t63025520\\n', 'chrY\\t59373566\\n', 'chr19\\t59128983\\n', 'chr22\\t51304566\\n', 'chr21\\t48129895\\n', 'chr6_ssto_hap7\\t4928567\\n', 'chr6_mcf_hap5\\t4833398\\n', 'chr6_cox_hap2\\t4795371\\n', 'chr6_mann_hap4\\t4683263\\n', 'chr6_apd_hap1\\t4622290\\n', 'chr6_qbl_hap6\\t4611984\\n', 'chr6_dbb_hap3\\t4610396\\n', 'chr17_ctg5_hap1\\t1680828\\n', 'chr4_ctg9_hap1\\t590426\\n', 'chr1_gl000192_random\\t547496\\n', 'chrUn_gl000225\\t211173\\n', 'chr4_gl000194_random\\t191469\\n', 'chr4_gl000193_random\\t189789\\n', 'chr9_gl000200_random\\t187035\\n', 'chrUn_gl000222\\t186861\\n', 'chrUn_gl000212\\t186858\\n', 'chr7_gl000195_random\\t182896\\n', 'chrUn_gl000223\\t180455\\n', 'chrUn_gl000224\\t179693\\n', 'chrUn_gl000219\\t179198\\n', 'chr17_gl000205_random\\t174588\\n', 'chrUn_gl000215\\t172545\\n', 'chrUn_gl000216\\t172294\\n', 'chrUn_gl000217\\t172149\\n', 'chr9_gl000199_random\\t169874\\n', 'chrUn_gl000211\\t166566\\n', 'chrUn_gl000213\\t164239\\n', 'chrUn_gl000220\\t161802\\n', 'chrUn_gl000218\\t161147\\n', 'chr19_gl000209_random\\t159169\\n', 'chrUn_gl000221\\t155397\\n', 'chrUn_gl000214\\t137718\\n', 'chrUn_gl000228\\t129120\\n', 'chrUn_gl000227\\t128374\\n', 'chr1_gl000191_random\\t106433\\n', 'chr19_gl000208_random\\t92689\\n', 'chr9_gl000198_random\\t90085\\n', 'chr17_gl000204_random\\t81310\\n', 'chrUn_gl000233\\t45941\\n', 'chrUn_gl000237\\t45867\\n', 'chrUn_gl000230\\t43691\\n', 'chrUn_gl000242\\t43523\\n', 'chrUn_gl000243\\t43341\\n', 'chrUn_gl000241\\t42152\\n', 'chrUn_gl000236\\t41934\\n', 'chrUn_gl000240\\t41933\\n', 'chr17_gl000206_random\\t41001\\n', 'chrUn_gl000232\\t40652\\n', 'chrUn_gl000234\\t40531\\n', 'chr11_gl000202_random\\t40103\\n', 'chrUn_gl000238\\t39939\\n', 'chrUn_gl000244\\t39929\\n', 'chrUn_gl000248\\t39786\\n', 'chr8_gl000196_random\\t38914\\n', 'chrUn_gl000249\\t38502\\n', 'chrUn_gl000246\\t38154\\n', 'chr17_gl000203_random\\t37498\\n', 'chr8_gl000197_random\\t37175\\n', 'chrUn_gl000245\\t36651\\n', 'chrUn_gl000247\\t36422\\n', 'chr9_gl000201_random\\t36148\\n', 'chrUn_gl000235\\t34474\\n', 'chrUn_gl000239\\t33824\\n', 'chr21_gl000210_random\\t27682\\n', 'chrUn_gl000231\\t27386\\n', 'chrUn_gl000229\\t19913\\n', 'chrM\\t16571\\n', 'chrUn_gl000226\\t15008\\n', 'chr18_gl000207_random\\t4262']\n"
     ]
    }
   ],
   "source": [
    "print(all_lines)"
   ]
  },
  {
   "cell_type": "markdown",
   "metadata": {},
   "source": [
    "Each line contains a chromosome name and its size. Ideally, what we would like to do is to be able to store all of the names in one list and their corresponding sizes in another list so we can eventually make a bar plot. To be able to do this we also have to make sure that the index of the chromosome name and its corresponding size in the two lists are the same. \n",
    "\n",
    "Let's start by figuring out how we can get the chromosome name and size from each line. Here is the first line."
   ]
  },
  {
   "cell_type": "code",
   "execution_count": 41,
   "metadata": {},
   "outputs": [
    {
     "name": "stdout",
     "output_type": "stream",
     "text": [
      "chr1\t249250621\n",
      "\n"
     ]
    }
   ],
   "source": [
    "first_line = all_lines[0]\n",
    "print(first_line)"
   ]
  },
  {
   "cell_type": "markdown",
   "metadata": {},
   "source": [
    "Remember that there might be characters that we don't see when we print the line. From the *all_lines* list, we can see that the first line we printed has a tab (\\t) separating the chromosome name and size and there is a newline (\\n) at the end of the chromosome size: ```chr1\\t249250621\\n```\n",
    "\n",
    "The tab or \\t is what we call a delimiter and we can separate the line by the delimter using ```split()``` to be able to access the chromosome name and its size. Let's try this for line 1:"
   ]
  },
  {
   "cell_type": "code",
   "execution_count": 43,
   "metadata": {},
   "outputs": [
    {
     "name": "stdout",
     "output_type": "stream",
     "text": [
      "['chr1', '249250621\\n']\n"
     ]
    }
   ],
   "source": [
    "split_first_line = first_line.split('\\t')\n",
    "print(split_first_line)"
   ]
  },
  {
   "cell_type": "markdown",
   "metadata": {},
   "source": [
    "Now we can access the chromosome name, the first item in the list:"
   ]
  },
  {
   "cell_type": "code",
   "execution_count": 48,
   "metadata": {},
   "outputs": [
    {
     "name": "stdout",
     "output_type": "stream",
     "text": [
      "chr1\n"
     ]
    }
   ],
   "source": [
    "print(split_first_line[0])"
   ]
  },
  {
   "cell_type": "markdown",
   "metadata": {},
   "source": [
    "or the chromosome size, the second item in the list:"
   ]
  },
  {
   "cell_type": "code",
   "execution_count": 49,
   "metadata": {},
   "outputs": [
    {
     "name": "stdout",
     "output_type": "stream",
     "text": [
      "249250621\n",
      "\n"
     ]
    }
   ],
   "source": [
    "print(split_first_line[1])"
   ]
  },
  {
   "cell_type": "markdown",
   "metadata": {},
   "source": [
    "Remember that the second element still has the newline (\\n). we can remove that using ```strip()```"
   ]
  },
  {
   "cell_type": "code",
   "execution_count": 47,
   "metadata": {},
   "outputs": [
    {
     "name": "stdout",
     "output_type": "stream",
     "text": [
      "249250621\n"
     ]
    }
   ],
   "source": [
    "print(split_first_line[1].strip('\\n'))"
   ]
  },
  {
   "cell_type": "markdown",
   "metadata": {},
   "source": [
    "Now let's put this all together to create our plot. In this case, we will use the ```with open``` statement, but instead of reading all of the files at once, we will read the file line by line and store information as we go along.\n",
    "\n",
    "We will start by initializing two lists, x and y, to which we will append data to as we open and read through the file line-by-line using ```with open```. "
   ]
  },
  {
   "cell_type": "code",
   "execution_count": 52,
   "metadata": {},
   "outputs": [
    {
     "name": "stdout",
     "output_type": "stream",
     "text": [
      "line: chr1\t249250621\n",
      "\n",
      "x value: chr1 y value: 249250621\n",
      "line: chr2\t243199373\n",
      "\n",
      "x value: chr2 y value: 243199373\n",
      "line: chr3\t198022430\n",
      "\n",
      "x value: chr3 y value: 198022430\n",
      "line: chr4\t191154276\n",
      "\n",
      "x value: chr4 y value: 191154276\n",
      "line: chr5\t180915260\n",
      "\n",
      "x value: chr5 y value: 180915260\n",
      "line: chr6\t171115067\n",
      "\n",
      "x value: chr6 y value: 171115067\n",
      "line: chr7\t159138663\n",
      "\n",
      "x value: chr7 y value: 159138663\n",
      "line: chrX\t155270560\n",
      "\n",
      "x value: chrX y value: 155270560\n",
      "line: chr8\t146364022\n",
      "\n",
      "x value: chr8 y value: 146364022\n",
      "line: chr9\t141213431\n",
      "\n",
      "x value: chr9 y value: 141213431\n",
      "line: chr10\t135534747\n",
      "\n",
      "x value: chr10 y value: 135534747\n",
      "line: chr11\t135006516\n",
      "\n",
      "x value: chr11 y value: 135006516\n",
      "line: chr12\t133851895\n",
      "\n",
      "x value: chr12 y value: 133851895\n",
      "line: chr13\t115169878\n",
      "\n",
      "x value: chr13 y value: 115169878\n",
      "line: chr14\t107349540\n",
      "\n",
      "x value: chr14 y value: 107349540\n",
      "line: chr15\t102531392\n",
      "\n",
      "x value: chr15 y value: 102531392\n",
      "line: chr16\t90354753\n",
      "\n",
      "x value: chr16 y value: 90354753\n",
      "line: chr17\t81195210\n",
      "\n",
      "x value: chr17 y value: 81195210\n",
      "line: chr18\t78077248\n",
      "\n",
      "x value: chr18 y value: 78077248\n",
      "line: chr20\t63025520\n",
      "\n",
      "x value: chr20 y value: 63025520\n",
      "line: chrY\t59373566\n",
      "\n",
      "x value: chrY y value: 59373566\n",
      "line: chr19\t59128983\n",
      "\n",
      "x value: chr19 y value: 59128983\n",
      "line: chr22\t51304566\n",
      "\n",
      "x value: chr22 y value: 51304566\n",
      "line: chr21\t48129895\n",
      "\n",
      "x value: chr21 y value: 48129895\n",
      "line: chr6_ssto_hap7\t4928567\n",
      "\n",
      "x value: chr6_ssto_hap7 y value: 4928567\n",
      "line: chr6_mcf_hap5\t4833398\n",
      "\n",
      "x value: chr6_mcf_hap5 y value: 4833398\n",
      "line: chr6_cox_hap2\t4795371\n",
      "\n",
      "x value: chr6_cox_hap2 y value: 4795371\n",
      "line: chr6_mann_hap4\t4683263\n",
      "\n",
      "x value: chr6_mann_hap4 y value: 4683263\n",
      "line: chr6_apd_hap1\t4622290\n",
      "\n",
      "x value: chr6_apd_hap1 y value: 4622290\n",
      "line: chr6_qbl_hap6\t4611984\n",
      "\n",
      "x value: chr6_qbl_hap6 y value: 4611984\n",
      "line: chr6_dbb_hap3\t4610396\n",
      "\n",
      "x value: chr6_dbb_hap3 y value: 4610396\n",
      "line: chr17_ctg5_hap1\t1680828\n",
      "\n",
      "x value: chr17_ctg5_hap1 y value: 1680828\n",
      "line: chr4_ctg9_hap1\t590426\n",
      "\n",
      "x value: chr4_ctg9_hap1 y value: 590426\n",
      "line: chr1_gl000192_random\t547496\n",
      "\n",
      "x value: chr1_gl000192_random y value: 547496\n",
      "line: chrUn_gl000225\t211173\n",
      "\n",
      "x value: chrUn_gl000225 y value: 211173\n",
      "line: chr4_gl000194_random\t191469\n",
      "\n",
      "x value: chr4_gl000194_random y value: 191469\n",
      "line: chr4_gl000193_random\t189789\n",
      "\n",
      "x value: chr4_gl000193_random y value: 189789\n",
      "line: chr9_gl000200_random\t187035\n",
      "\n",
      "x value: chr9_gl000200_random y value: 187035\n",
      "line: chrUn_gl000222\t186861\n",
      "\n",
      "x value: chrUn_gl000222 y value: 186861\n",
      "line: chrUn_gl000212\t186858\n",
      "\n",
      "x value: chrUn_gl000212 y value: 186858\n",
      "line: chr7_gl000195_random\t182896\n",
      "\n",
      "x value: chr7_gl000195_random y value: 182896\n",
      "line: chrUn_gl000223\t180455\n",
      "\n",
      "x value: chrUn_gl000223 y value: 180455\n",
      "line: chrUn_gl000224\t179693\n",
      "\n",
      "x value: chrUn_gl000224 y value: 179693\n",
      "line: chrUn_gl000219\t179198\n",
      "\n",
      "x value: chrUn_gl000219 y value: 179198\n",
      "line: chr17_gl000205_random\t174588\n",
      "\n",
      "x value: chr17_gl000205_random y value: 174588\n",
      "line: chrUn_gl000215\t172545\n",
      "\n",
      "x value: chrUn_gl000215 y value: 172545\n",
      "line: chrUn_gl000216\t172294\n",
      "\n",
      "x value: chrUn_gl000216 y value: 172294\n",
      "line: chrUn_gl000217\t172149\n",
      "\n",
      "x value: chrUn_gl000217 y value: 172149\n",
      "line: chr9_gl000199_random\t169874\n",
      "\n",
      "x value: chr9_gl000199_random y value: 169874\n",
      "line: chrUn_gl000211\t166566\n",
      "\n",
      "x value: chrUn_gl000211 y value: 166566\n",
      "line: chrUn_gl000213\t164239\n",
      "\n",
      "x value: chrUn_gl000213 y value: 164239\n",
      "line: chrUn_gl000220\t161802\n",
      "\n",
      "x value: chrUn_gl000220 y value: 161802\n",
      "line: chrUn_gl000218\t161147\n",
      "\n",
      "x value: chrUn_gl000218 y value: 161147\n",
      "line: chr19_gl000209_random\t159169\n",
      "\n",
      "x value: chr19_gl000209_random y value: 159169\n",
      "line: chrUn_gl000221\t155397\n",
      "\n",
      "x value: chrUn_gl000221 y value: 155397\n",
      "line: chrUn_gl000214\t137718\n",
      "\n",
      "x value: chrUn_gl000214 y value: 137718\n",
      "line: chrUn_gl000228\t129120\n",
      "\n",
      "x value: chrUn_gl000228 y value: 129120\n",
      "line: chrUn_gl000227\t128374\n",
      "\n",
      "x value: chrUn_gl000227 y value: 128374\n",
      "line: chr1_gl000191_random\t106433\n",
      "\n",
      "x value: chr1_gl000191_random y value: 106433\n",
      "line: chr19_gl000208_random\t92689\n",
      "\n",
      "x value: chr19_gl000208_random y value: 92689\n",
      "line: chr9_gl000198_random\t90085\n",
      "\n",
      "x value: chr9_gl000198_random y value: 90085\n",
      "line: chr17_gl000204_random\t81310\n",
      "\n",
      "x value: chr17_gl000204_random y value: 81310\n",
      "line: chrUn_gl000233\t45941\n",
      "\n",
      "x value: chrUn_gl000233 y value: 45941\n",
      "line: chrUn_gl000237\t45867\n",
      "\n",
      "x value: chrUn_gl000237 y value: 45867\n",
      "line: chrUn_gl000230\t43691\n",
      "\n",
      "x value: chrUn_gl000230 y value: 43691\n",
      "line: chrUn_gl000242\t43523\n",
      "\n",
      "x value: chrUn_gl000242 y value: 43523\n",
      "line: chrUn_gl000243\t43341\n",
      "\n",
      "x value: chrUn_gl000243 y value: 43341\n",
      "line: chrUn_gl000241\t42152\n",
      "\n",
      "x value: chrUn_gl000241 y value: 42152\n",
      "line: chrUn_gl000236\t41934\n",
      "\n",
      "x value: chrUn_gl000236 y value: 41934\n",
      "line: chrUn_gl000240\t41933\n",
      "\n",
      "x value: chrUn_gl000240 y value: 41933\n",
      "line: chr17_gl000206_random\t41001\n",
      "\n",
      "x value: chr17_gl000206_random y value: 41001\n",
      "line: chrUn_gl000232\t40652\n",
      "\n",
      "x value: chrUn_gl000232 y value: 40652\n",
      "line: chrUn_gl000234\t40531\n",
      "\n",
      "x value: chrUn_gl000234 y value: 40531\n",
      "line: chr11_gl000202_random\t40103\n",
      "\n",
      "x value: chr11_gl000202_random y value: 40103\n",
      "line: chrUn_gl000238\t39939\n",
      "\n",
      "x value: chrUn_gl000238 y value: 39939\n",
      "line: chrUn_gl000244\t39929\n",
      "\n",
      "x value: chrUn_gl000244 y value: 39929\n",
      "line: chrUn_gl000248\t39786\n",
      "\n",
      "x value: chrUn_gl000248 y value: 39786\n",
      "line: chr8_gl000196_random\t38914\n",
      "\n",
      "x value: chr8_gl000196_random y value: 38914\n",
      "line: chrUn_gl000249\t38502\n",
      "\n",
      "x value: chrUn_gl000249 y value: 38502\n",
      "line: chrUn_gl000246\t38154\n",
      "\n",
      "x value: chrUn_gl000246 y value: 38154\n",
      "line: chr17_gl000203_random\t37498\n",
      "\n",
      "x value: chr17_gl000203_random y value: 37498\n",
      "line: chr8_gl000197_random\t37175\n",
      "\n",
      "x value: chr8_gl000197_random y value: 37175\n",
      "line: chrUn_gl000245\t36651\n",
      "\n",
      "x value: chrUn_gl000245 y value: 36651\n",
      "line: chrUn_gl000247\t36422\n",
      "\n",
      "x value: chrUn_gl000247 y value: 36422\n",
      "line: chr9_gl000201_random\t36148\n",
      "\n",
      "x value: chr9_gl000201_random y value: 36148\n",
      "line: chrUn_gl000235\t34474\n",
      "\n",
      "x value: chrUn_gl000235 y value: 34474\n",
      "line: chrUn_gl000239\t33824\n",
      "\n",
      "x value: chrUn_gl000239 y value: 33824\n",
      "line: chr21_gl000210_random\t27682\n",
      "\n",
      "x value: chr21_gl000210_random y value: 27682\n",
      "line: chrUn_gl000231\t27386\n",
      "\n",
      "x value: chrUn_gl000231 y value: 27386\n",
      "line: chrUn_gl000229\t19913\n",
      "\n",
      "x value: chrUn_gl000229 y value: 19913\n",
      "line: chrM\t16571\n",
      "\n",
      "x value: chrM y value: 16571\n",
      "line: chrUn_gl000226\t15008\n",
      "\n",
      "x value: chrUn_gl000226 y value: 15008\n",
      "line: chr18_gl000207_random\t4262\n",
      "x value: chr18_gl000207_random y value: 4262\n",
      "['chr1', 'chr2', 'chr3', 'chr4', 'chr5']\n",
      "[249250621, 243199373, 198022430, 191154276, 180915260]\n"
     ]
    }
   ],
   "source": [
    "#list x will contain chromosome names\n",
    "#list y will contain the size of the chromosomes\n",
    "#Important: the index of the chromosome name and its corresponding size in lists x and y have to be the same\n",
    "x=[]\n",
    "y=[]\n",
    "\n",
    "#opens the file\n",
    "with open ('./CMM262Plan/data/hg19.chrom.sizes.txt') as chromSize:\n",
    "    for line in chromSize:# The for loop allows you to read the file line-by-line\n",
    "        print('line:', line) #what does the line contain\n",
    "        x_value = line.split('\\t')[0]\n",
    "        y_value = int(line.split('\\t')[1].strip('\\n'))\n",
    "        print('x value:', x_value, 'y value:', y_value) #the x and y values we are appending to our list\n",
    "        x.append(x_value)\n",
    "        y.append(y_value)\n",
    "  \n",
    "#just printing the first five values of lists x and y\n",
    "print(x[:5])\n",
    "print(y[:5])\n"
   ]
  },
  {
   "cell_type": "markdown",
   "metadata": {},
   "source": [
    "Now that we have our data stored as lists x and y. Let's get ready to plot our data using matplotlib! Start by importing matplotlib's pyplot as plt. "
   ]
  },
  {
   "cell_type": "code",
   "execution_count": 53,
   "metadata": {},
   "outputs": [],
   "source": [
    "import matplotlib.pyplot as plt"
   ]
  },
  {
   "cell_type": "markdown",
   "metadata": {},
   "source": [
    "Let's make a simple barplot using the ```bar()``` function and our lists, x and y, that contain our data"
   ]
  },
  {
   "cell_type": "code",
   "execution_count": 54,
   "metadata": {},
   "outputs": [
    {
     "data": {
      "text/plain": [
       "<BarContainer object of 93 artists>"
      ]
     },
     "execution_count": 54,
     "metadata": {},
     "output_type": "execute_result"
    },
    {
     "data": {
      "image/png": "[encoded data removed]",
      "text/plain": [
       "<Figure size 432x288 with 1 Axes>"
      ]
     },
     "metadata": {
      "needs_background": "light"
     },
     "output_type": "display_data"
    }
   ],
   "source": [
    "plt.bar(x,y)"
   ]
  },
  {
   "cell_type": "markdown",
   "metadata": {},
   "source": [
    "Great! We have created a plot...but it's a bit of a mess. Let's see if we can clean it up by making it larger, rotating the x-axis tick labels, adding axes labels, and a title. "
   ]
  },
  {
   "cell_type": "code",
   "execution_count": 55,
   "metadata": {},
   "outputs": [
    {
     "data": {
      "image/png": "[encoded data removed]",
      "text/plain": [
       "<Figure size 1440x360 with 1 Axes>"
      ]
     },
     "metadata": {
      "needs_background": "light"
     },
     "output_type": "display_data"
    }
   ],
   "source": [
    "plt.figure(figsize=(20,5))\n",
    "plt.bar(x, y)\n",
    "plt.xticks(x, rotation='vertical')\n",
    "plt.ylabel('Chromosome Length (bp)')\n",
    "plt.xlabel('Chromosome Name')\n",
    "plt.title('Length of Hg19 Chromosomes')\n",
    "plt.show()"
   ]
  },
  {
   "cell_type": "code",
   "execution_count": null,
   "metadata": {},
   "outputs": [],
   "source": []
  }
 ],
 "metadata": {
  "kernelspec": {
   "display_name": "Python 3",
   "language": "python",
   "name": "python3"
  },
  "language_info": {
   "codemirror_mode": {
    "name": "ipython",
    "version": 3
   },
   "file_extension": ".py",
   "mimetype": "text/x-python",
   "name": "python",
   "nbconvert_exporter": "python",
   "pygments_lexer": "ipython3",
   "version": "3.7.3"
  }
 },
 "nbformat": 4,
 "nbformat_minor": 2
}
